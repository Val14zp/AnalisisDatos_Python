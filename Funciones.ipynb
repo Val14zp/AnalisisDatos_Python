{
  "cells": [
    {
      "cell_type": "markdown",
      "metadata": {},
      "source": [
        "# Trabajo en clase # 1 - equipo 1\n",
        "\n",
        "- Isaac Palma Medina\n",
        "- Emilio Chang Bustamante\n",
        "- Karla Quirós Delgado\n",
        "- Valery Zúñiga Pérez\n"
      ]
    },
    {
      "cell_type": "code",
      "execution_count": 2,
      "metadata": {
        "colab": {
          "base_uri": "https://localhost:8080/"
        },
        "id": "O0ZuqINVU_3C",
        "outputId": "ab6794c4-c5b0-464e-d8bc-e0903f136cb8"
      },
      "outputs": [
        {
          "name": "stdout",
          "output_type": "stream",
          "text": [
            "El area es:  38.48451000647496\n",
            "El perimetro:  21.991148575128552\n"
          ]
        }
      ],
      "source": [
        "import math\n",
        "\n",
        "\n",
        "def calcular_area_circulo(radio):\n",
        "    return math.pi * radio**2\n",
        "\n",
        "\n",
        "def calcular_perimetro_circulo(radio):\n",
        "    return 2 * math.pi * radio\n",
        "\n",
        "\n",
        "radio = 3.5\n",
        "area = calcular_area_circulo(radio)\n",
        "perimetro = calcular_perimetro_circulo(radio)\n",
        "print(\"El area es: \", area)\n",
        "print(\"El perimetro: \", perimetro)"
      ]
    },
    {
      "cell_type": "code",
      "execution_count": 3,
      "metadata": {
        "id": "pZwPHOFLSfWt"
      },
      "outputs": [
        {
          "name": "stdout",
          "output_type": "stream",
          "text": [
            "El perímetro del triángulo es: 12\n",
            "El área del triángulo es: 6.0\n",
            "El perímetro del triángulo equilatero es: 9\n",
            "El área del triángulo equilatero es: 3.8971143170299736\n"
          ]
        }
      ],
      "source": [
        "# Triángulo y triángulo equilatero\n",
        "\n",
        "\n",
        "def perimetro_triangulo(lado_1: float, lado_2: float, lado_3: float) -> float:\n",
        "    return lado_1 + lado_2 + lado_3\n",
        "\n",
        "\n",
        "lado_1: float = 3\n",
        "lado_2: float = 4\n",
        "lado_3: float = 5\n",
        "\n",
        "print(f\"El perímetro del triángulo es: {perimetro_triangulo(lado_1, lado_2, lado_3)}\")\n",
        "\n",
        "\n",
        "def area_triangulo(base: float, altura: float) -> float:\n",
        "    return (base * altura) / 2\n",
        "\n",
        "\n",
        "base: float = 3\n",
        "altura: float = 4\n",
        "print(f\"El área del triángulo es: {area_triangulo(base, altura)}\")\n",
        "\n",
        "\n",
        "def perimetro_triangulo_equilatero(lado: float) -> float:\n",
        "    return 3 * lado\n",
        "\n",
        "\n",
        "lado: float = 3\n",
        "print(\n",
        "    f\"El perímetro del triángulo equilatero es: {perimetro_triangulo_equilatero(lado)}\"\n",
        ")\n",
        "\n",
        "\n",
        "def area_triangulo_equilatero(lado: float) -> float:\n",
        "    return ((lado**2) * math.sqrt(3)) / 4\n",
        "\n",
        "\n",
        "lado: float = 3\n",
        "print(f\"El área del triángulo equilatero es: {area_triangulo_equilatero(lado)}\")"
      ]
    },
    {
      "cell_type": "code",
      "execution_count": 10,
      "metadata": {
        "id": "NA8YgD8NuLC3"
      },
      "outputs": [
        {
          "name": "stdout",
          "output_type": "stream",
          "text": [
            "Área trapecio:  100.0\n",
            "Área polígono regular:  50.0\n"
          ]
        }
      ],
      "source": [
        "# Trapecio\n",
        "def area_trapecio(baseMayor, baseMenor, altura):\n",
        "    return ((baseMayor + baseMenor) / 2) * altura\n",
        "\n",
        "\n",
        "def perimetro_trapecio(baseMayor, baseMenor, diagonal1, diagonal2):\n",
        "    return baseMayor + baseMenor + diagonal1 + diagonal2\n",
        "\n",
        "\n",
        "baseMayor = float(input(\"Ingrese la medida de la base mayor\"))\n",
        "baseMenor = float(input(\"Ingrese la medida de la base menor\"))\n",
        "altura = float(input(\"Ingrese la altura\"))\n",
        "print(\"Área trapecio: \", area_trapecio(baseMayor, baseMenor, altura))\n",
        "\n",
        "\n",
        "# Polígono regular\n",
        "def area_poliguno_regular(p, a):\n",
        "    return (p * a) / 2\n",
        "\n",
        "\n",
        "def perimetro_poligono_regular(n_lados, medida_lado):\n",
        "    return n_lados * medida_lado\n",
        "\n",
        "\n",
        "perimetro = float(input(\"Ingrese la medida del perímetro\"))\n",
        "apotema = float(input(\"Ingrese la medida de la apotema\"))\n",
        "print(\"Área polígono regular: \", area_poliguno_regular(perimetro, apotema))"
      ]
    },
    {
      "cell_type": "code",
      "execution_count": 6,
      "metadata": {
        "colab": {
          "base_uri": "https://localhost:8080/"
        },
        "id": "coWLdz7jirJG",
        "outputId": "7d2fe3ff-12c0-44f8-a274-ef9812dc4a91"
      },
      "outputs": [
        {
          "name": "stdout",
          "output_type": "stream",
          "text": [
            "El area es:  100\n",
            "El perimetro:  40\n"
          ]
        }
      ],
      "source": [
        "import math\n",
        "\n",
        "\n",
        "def calcular_area_cuadrado(lado):\n",
        "    return lado * lado\n",
        "\n",
        "\n",
        "def calcular_perimetro_cuadrado(lado):\n",
        "    return 4 * lado\n",
        "\n",
        "\n",
        "lado = int(input(\"Digite un valor:\"))\n",
        "area = calcular_area_cuadrado(lado)\n",
        "perimetro = calcular_perimetro_cuadrado(lado)\n",
        "print(\"El area es: \", area)\n",
        "print(\"El perimetro: \", perimetro)"
      ]
    },
    {
      "cell_type": "code",
      "execution_count": 7,
      "metadata": {},
      "outputs": [
        {
          "name": "stdout",
          "output_type": "stream",
          "text": [
            "El area del rombo es:  8.1\n",
            "El perimetro del rombo es:  32\n"
          ]
        }
      ],
      "source": [
        "def calcular_area_rombo(D, d):\n",
        "    return (D * d) / 2\n",
        "\n",
        "\n",
        "def calcular_perimetro_rombo(lado):\n",
        "    return lado * 4\n",
        "\n",
        "\n",
        "D = 4.5\n",
        "d = 3.6\n",
        "lado = 8\n",
        "area = calcular_area_rombo(D, d)\n",
        "perimetro = calcular_perimetro_rombo(lado)\n",
        "print(\"El area del rombo es: \", area)\n",
        "print(\"El perimetro del rombo es: \", perimetro)"
      ]
    },
    {
      "cell_type": "code",
      "execution_count": null,
      "metadata": {},
      "outputs": [],
      "source": [
        "# Rectangulo\n",
        "\n",
        "import math\n",
        "\n",
        "\n",
        "def calcular_area_rectangulo(base, altura):\n",
        "    return base * altura\n",
        "\n",
        "\n",
        "def calcular_perimetro_rectangulo(base, altura):\n",
        "    return (2 * base) + (2 * altura)\n",
        "\n",
        "\n",
        "base = float(input(\"Digite la base del rectangulo: \"))\n",
        "altura = float(input(\"Digite la altura del rectangulo: \"))\n",
        "\n",
        "print(\"El area del rectangulo es: \" + str(calcular_area_rectangulo(base, altura)))\n",
        "print(\n",
        "    \"El perimetro del rectangulo es: \"\n",
        "    + str(calcular_perimetro_rectangulo(base, altura))\n",
        ")"
      ]
    },
    {
      "cell_type": "code",
      "execution_count": null,
      "metadata": {},
      "outputs": [],
      "source": [
        "# Paralelogramo\n",
        "\n",
        "import math\n",
        "\n",
        "\n",
        "def calcular_area_paralelogramo(base, altura):\n",
        "    return base * altura\n",
        "\n",
        "\n",
        "def calcular_perimetro_paralelogramo(base, altura):\n",
        "    return 2 * (base + altura)\n",
        "\n",
        "\n",
        "base = int(input(\"Digite la base del paralelogramo: \"))\n",
        "altura = int(input(\"Digite la altura del paralelogramo: \"))\n",
        "\n",
        "print(\"El area del paralelogramo es: \" + str(calcular_area_paralelogramo(base, altura)))\n",
        "print(\n",
        "    \"El perimetro del paralelogramo es: \"\n",
        "    + str(calcular_perimetro_paralelogramo(base, altura))\n",
        ")"
      ]
    }
  ],
  "metadata": {
    "colab": {
      "provenance": []
    },
    "kernelspec": {
      "display_name": "Python 3",
      "name": "python3"
    },
    "language_info": {
      "codemirror_mode": {
        "name": "ipython",
        "version": 3
      },
      "file_extension": ".py",
      "mimetype": "text/x-python",
      "name": "python",
      "nbconvert_exporter": "python",
      "pygments_lexer": "ipython3",
      "version": "3.12.1"
    }
  },
  "nbformat": 4,
  "nbformat_minor": 0
}
