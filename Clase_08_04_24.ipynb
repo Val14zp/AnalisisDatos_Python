{
 "cells": [
  {
   "cell_type": "code",
   "execution_count": 33,
   "metadata": {},
   "outputs": [],
   "source": [
    "import pandas as pd\n",
    "import matplotlib.pyplot as plt\n",
    "\n",
    "df = pd.read_csv(\"data/datos_criminalidad_2019-2024.csv\")\n",
    "data = pd.DataFrame(df)"
   ]
  },
  {
   "cell_type": "markdown",
   "metadata": {},
   "source": [
    "### Un grupo de datos por dos columnas\n",
    "\n",
    "> Filtrar los tipos de delitos por género, usando las columnas ´GENERO´y ´DELITO´."
   ]
  },
  {
   "cell_type": "code",
   "execution_count": 37,
   "metadata": {},
   "outputs": [
    {
     "name": "stdout",
     "output_type": "stream",
     "text": [
      "                                   0  \\\n",
      "0              (ASALTO, DESCONOCIDO)   \n",
      "1                   (ASALTO, HOMBRE)   \n",
      "2                    (ASALTO, MUJER)   \n",
      "3           (HOMICIDIO, DESCONOCIDO)   \n",
      "4                (HOMICIDIO, HOMBRE)   \n",
      "5                 (HOMICIDIO, MUJER)   \n",
      "6               (HURTO, DESCONOCIDO)   \n",
      "7                    (HURTO, HOMBRE)   \n",
      "8                     (HURTO, MUJER)   \n",
      "9                (ROBO, DESCONOCIDO)   \n",
      "10                    (ROBO, HOMBRE)   \n",
      "11                     (ROBO, MUJER)   \n",
      "12   (ROBO DE VEHICULO, DESCONOCIDO)   \n",
      "13        (ROBO DE VEHICULO, HOMBRE)   \n",
      "14         (ROBO DE VEHICULO, MUJER)   \n",
      "15  (TACHA DE VEHICULO, DESCONOCIDO)   \n",
      "16       (TACHA DE VEHICULO, HOMBRE)   \n",
      "17        (TACHA DE VEHICULO, MUJER)   \n",
      "\n",
      "                                                    1  \n",
      "0          Delito             SubDelito       Fech...  \n",
      "1          Delito             SubDelito       Fech...  \n",
      "2          Delito             SubDelito       Fech...  \n",
      "3             Delito                       SubDeli...  \n",
      "4             Delito                      SubDelit...  \n",
      "5             Delito                       SubDeli...  \n",
      "6         Delito                    SubDelito     ...  \n",
      "7         Delito                 SubDelito       F...  \n",
      "8         Delito                 SubDelito       F...  \n",
      "9         Delito             SubDelito       Fecha...  \n",
      "10        Delito        SubDelito       Fecha     ...  \n",
      "11        Delito             SubDelito       Fecha...  \n",
      "12                   Delito SubDelito       Fecha ...  \n",
      "13                   Delito             SubDelito ...  \n",
      "14                   Delito             SubDelito ...  \n",
      "15                    Delito          SubDelito   ...  \n",
      "16                    Delito          SubDelito   ...  \n",
      "17                    Delito          SubDelito   ...  \n"
     ]
    }
   ],
   "source": [
    "agrupar_por_delito_y_genero = data.groupby([\"Delito\", \"Genero\"])\n",
    "print(pd.DataFrame(agrupar_por_delito_y_genero))"
   ]
  },
  {
   "cell_type": "markdown",
   "metadata": {},
   "source": [
    "### Realizar un sort de un grupo de datos y colocar los primeros 10\n",
    "\n",
    "Count de cada tipo de delito"
   ]
  },
  {
   "cell_type": "code",
   "execution_count": 10,
   "metadata": {},
   "outputs": [
    {
     "name": "stdout",
     "output_type": "stream",
     "text": [
      "Delito\n",
      "ASALTO               49987\n",
      "HURTO                40557\n",
      "HOMICIDIO             3426\n",
      "ROBO                  1741\n",
      "TACHA DE VEHICULO      322\n",
      "ROBO DE VEHICULO        17\n",
      "Name: Victima, dtype: int64\n"
     ]
    }
   ],
   "source": [
    "# Realizar un sort de un grupo de datos y colocar los primeros 10\n",
    "\n",
    "resultado_sort = (\n",
    "    data.groupby([\"Delito\"])\n",
    "    .count()\n",
    "    .sort_values(by=[\"Victima\"], ascending=False)[\"Victima\"]\n",
    "    .head(10)\n",
    ")\n",
    "print(resultado_sort)"
   ]
  },
  {
   "cell_type": "markdown",
   "metadata": {},
   "source": [
    "### Realizar un cálculo de un promedio y explicarlo"
   ]
  },
  {
   "cell_type": "code",
   "execution_count": null,
   "metadata": {},
   "outputs": [],
   "source": []
  },
  {
   "cell_type": "code",
   "execution_count": 31,
   "metadata": {},
   "outputs": [
    {
     "name": "stdout",
     "output_type": "stream",
     "text": [
      "Cantidad total de asaltos en 2023: 9455\n",
      "Promedio mensual de asaltos en 2023: 787.9166666666666\n"
     ]
    }
   ],
   "source": [
    "df_fechas_formateadas = pd.read_csv(\n",
    "    \"./data/datos_criminalidad_2019-2024.csv\", parse_dates=[\"Fecha\"], dayfirst=True\n",
    ")\n",
    "\n",
    "# Filtrar por el tipo de delito \"ASALTO\" y el año 2023\n",
    "dataFiltered2023_Asalto = df_fechas_formateadas[\n",
    "    (df_fechas_formateadas[\"Delito\"] == \"ASALTO\")\n",
    "    & (df_fechas_formateadas[\"Fecha\"].dt.year == 2023)\n",
    "]\n",
    "\n",
    "cantidad_registros_total = len(dataFiltered2023_Asalto)\n",
    "promedio_anual_2023_asaltos = cantidad_registros_total / 12\n",
    "\n",
    "# Mostrar los registros filtrados\n",
    "# print(dataFiltered2023_Asalto)\n",
    "print(f\"Cantidad total de asaltos en 2023: {cantidad_registros_total}\")\n",
    "print(f\"Promedio mensual de asaltos en 2023: {promedio_anual_2023_asaltos}\")"
   ]
  },
  {
   "cell_type": "markdown",
   "metadata": {},
   "source": [
    "Entre los distintos tipos de delitos, se calculó el promedio anual del delito \"Asalto\", resultando en una cantidad promedio de 787.9 asaltos mensuales. "
   ]
  }
 ],
 "metadata": {
  "kernelspec": {
   "display_name": "Python 3",
   "language": "python",
   "name": "python3"
  },
  "language_info": {
   "codemirror_mode": {
    "name": "ipython",
    "version": 3
   },
   "file_extension": ".py",
   "mimetype": "text/x-python",
   "name": "python",
   "nbconvert_exporter": "python",
   "pygments_lexer": "ipython3",
   "version": "3.12.1"
  }
 },
 "nbformat": 4,
 "nbformat_minor": 2
}
